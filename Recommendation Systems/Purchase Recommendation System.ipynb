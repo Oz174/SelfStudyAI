{
 "cells": [
  {
   "cell_type": "markdown",
   "metadata": {},
   "source": [
    "## Association Rule Based Recommendation System "
   ]
  },
  {
   "cell_type": "code",
   "execution_count": 4,
   "metadata": {},
   "outputs": [
    {
     "name": "stdout",
     "output_type": "stream",
     "text": [
      "       0       1       2       3\n",
      "0  bread    beer  diaper        \n",
      "1  bread    coke  diaper    milk\n",
      "2  bread    milk                \n",
      "3   beer  diaper    milk        \n",
      "4  bread    beer  diaper    milk\n",
      "5  bread    beer    coke        \n",
      "6  bread    beer    coke  diaper\n",
      "7   beer    coke                \n",
      "8  bread    coke  diaper        \n",
      "9   beer  diaper    milk        \n"
     ]
    }
   ],
   "source": [
    "import pandas as pd\n",
    "\n",
    "# Create a transaction table\n",
    "transactions = [\n",
    "    ['bread', 'beer', 'diaper'],\n",
    "    ['bread', 'coke', 'diaper', 'milk'],\n",
    "    ['bread', 'milk'],\n",
    "    ['beer', 'diaper', 'milk'],\n",
    "    ['bread', 'beer', 'diaper', 'milk'],\n",
    "    ['bread', 'beer', 'coke'],\n",
    "    ['bread', 'beer', 'coke', 'diaper'],\n",
    "    ['beer', 'coke'],\n",
    "    ['bread', 'coke', 'diaper'],\n",
    "    ['beer', 'diaper', 'milk'],\n",
    "]\n",
    "\n",
    "# Convert to a DataFrame\n",
    "df = pd.DataFrame(transactions)\n",
    "df.fillna('', inplace=True)  # Replace NaN with empty string\n",
    "print(df)"
   ]
  },
  {
   "cell_type": "code",
   "execution_count": 6,
   "metadata": {},
   "outputs": [
    {
     "name": "stdout",
     "output_type": "stream",
     "text": [
      "   support         itemsets\n",
      "0      0.7           (beer)\n",
      "1      0.7          (bread)\n",
      "2      0.5           (coke)\n",
      "3      0.7         (diaper)\n",
      "4      0.5           (milk)\n",
      "5      0.4    (bread, beer)\n",
      "6      0.5   (beer, diaper)\n",
      "7      0.4    (bread, coke)\n",
      "8      0.5  (bread, diaper)\n",
      "9      0.4   (milk, diaper)\n",
      "  antecedents consequents  antecedent support  consequent support  support  \\\n",
      "0      (beer)    (diaper)                 0.7                 0.7      0.5   \n",
      "1    (diaper)      (beer)                 0.7                 0.7      0.5   \n",
      "2      (coke)     (bread)                 0.5                 0.7      0.4   \n",
      "3     (bread)    (diaper)                 0.7                 0.7      0.5   \n",
      "4    (diaper)     (bread)                 0.7                 0.7      0.5   \n",
      "5      (milk)    (diaper)                 0.5                 0.7      0.4   \n",
      "\n",
      "   confidence      lift  leverage  conviction  zhangs_metric  \n",
      "0    0.714286  1.020408      0.01        1.05       0.066667  \n",
      "1    0.714286  1.020408      0.01        1.05       0.066667  \n",
      "2    0.800000  1.142857      0.05        1.50       0.250000  \n",
      "3    0.714286  1.020408      0.01        1.05       0.066667  \n",
      "4    0.714286  1.020408      0.01        1.05       0.066667  \n",
      "5    0.800000  1.142857      0.05        1.50       0.250000  \n"
     ]
    }
   ],
   "source": [
    "from mlxtend.preprocessing import TransactionEncoder\n",
    "from mlxtend.frequent_patterns import apriori, association_rules\n",
    "\n",
    "# Initialize the TransactionEncoder\n",
    "te = TransactionEncoder()\n",
    "te_ary = te.fit(transactions).transform(transactions)\n",
    "df = pd.DataFrame(te_ary, columns=te.columns_)\n",
    "\n",
    "# Apply the Apriori algorithm\n",
    "frequent_itemsets = apriori(df, min_support=0.4, use_colnames=True)\n",
    "\n",
    "# Generate the association rules\n",
    "rules = association_rules(frequent_itemsets, metric=\"confidence\", min_threshold=0.7)\n",
    "\n",
    "print(frequent_itemsets)\n",
    "print(rules)"
   ]
  },
  {
   "cell_type": "code",
   "execution_count": 15,
   "metadata": {},
   "outputs": [
    {
     "name": "stdout",
     "output_type": "stream",
     "text": [
      "Recommendations for items {'diaper'}: {'bread', 'beer'}\n"
     ]
    }
   ],
   "source": [
    "# Function to generate recommendations based on the rules\n",
    "def recommend_items(purchased_items, rules):\n",
    "    recommendations = set()\n",
    "    for _, row in rules.iterrows():\n",
    "        if set(purchased_items).issubset(row['antecedents']):\n",
    "            recommendations.update(row['consequents'])\n",
    "    return recommendations.difference(purchased_items)\n",
    "\n",
    "# Example usage\n",
    "purchased_items = {'diaper'}\n",
    "recommendations = recommend_items(purchased_items, rules)\n",
    "print(f\"Recommendations for items {purchased_items}: {recommendations}\")\n"
   ]
  },
  {
   "cell_type": "code",
   "execution_count": null,
   "metadata": {},
   "outputs": [],
   "source": []
  }
 ],
 "metadata": {
  "kernelspec": {
   "display_name": "Python 3",
   "language": "python",
   "name": "python3"
  },
  "language_info": {
   "codemirror_mode": {
    "name": "ipython",
    "version": 3
   },
   "file_extension": ".py",
   "mimetype": "text/x-python",
   "name": "python",
   "nbconvert_exporter": "python",
   "pygments_lexer": "ipython3",
   "version": "3.12.0"
  }
 },
 "nbformat": 4,
 "nbformat_minor": 2
}
